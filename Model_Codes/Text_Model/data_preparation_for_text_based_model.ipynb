{
 "cells": [
  {
   "cell_type": "code",
   "execution_count": 1,
   "metadata": {
    "collapsed": true
   },
   "outputs": [],
   "source": [
    "import re\n",
    "import os\n",
    "import pandas as pd"
   ]
  },
  {
   "cell_type": "code",
   "execution_count": 2,
   "metadata": {
    "collapsed": true
   },
   "outputs": [],
   "source": [
    "iemocap_dir = '/home/FRACTAL/shaheen.perveen/SER_new/IEMOCAP_text/'\n",
    "labels_df = pd.read_csv('/home/FRACTAL/shaheen.perveen/SER_new/preprocess_info/df_iemocap.csv')\n",
    "save_dir = '/home/FRACTAL/shaheen.perveen/SER_new/preprocess_info/'"
   ]
  },
  {
   "cell_type": "code",
   "execution_count": 42,
   "metadata": {
    "collapsed": true
   },
   "outputs": [],
   "source": [
    "text_df = pd.DataFrame(columns=[\"filename\", \"text\"])"
   ]
  },
  {
   "cell_type": "code",
   "execution_count": 43,
   "metadata": {},
   "outputs": [
    {
     "name": "stdout",
     "output_type": "stream",
     "text": [
      "/home/FRACTAL/shaheen.perveen/SER_new/IEMOCAP_text/Session1/\n",
      "maybe incomplete line\n",
      "maybe incomplete line\n",
      "maybe incomplete line\n",
      "maybe incomplete line\n",
      "/home/FRACTAL/shaheen.perveen/SER_new/IEMOCAP_text/Session2/\n",
      "/home/FRACTAL/shaheen.perveen/SER_new/IEMOCAP_text/Session3/\n",
      "maybe incomplete line\n",
      "maybe incomplete line\n",
      "maybe incomplete line\n",
      "maybe incomplete line\n",
      "/home/FRACTAL/shaheen.perveen/SER_new/IEMOCAP_text/Session4/\n",
      "/home/FRACTAL/shaheen.perveen/SER_new/IEMOCAP_text/Session5/\n"
     ]
    }
   ],
   "source": [
    "# useful_regex = re.compile(r'^(\\w+)', re.IGNORECASE)\n",
    "\n",
    "for sess in range(1, 6):\n",
    "    file_path = '{}Session{}/'.format(iemocap_dir, sess)\n",
    "    evaluation_files = [l for l in os.listdir(file_path) if '_Ses' not in l]\n",
    "    print(file_path)\n",
    "    for file in evaluation_files:\n",
    "        with open(file_path + file, \"rt\") as f:\n",
    "            file_content = f.readlines()\n",
    "            try:\n",
    "                for myline in file_content:\n",
    "                    audio_code, rest = myline.split(\" \", 1)\n",
    "    #                 print(audio_code)\n",
    "                    text = myline.split(':')[-1].strip()\n",
    "                    line_split = [audio_code, text]\n",
    "    #                 print(line_split)\n",
    "                    text_df = text_df.append(pd.DataFrame(line_split, index=[\"filename\", \"text\"]).transpose(), ignore_index=True)\n",
    "            except:\n",
    "                print(\"maybe incomplete line\")\n"
   ]
  },
  {
   "cell_type": "code",
   "execution_count": 44,
   "metadata": {},
   "outputs": [
    {
     "data": {
      "text/plain": [
       "(9937, 2)"
      ]
     },
     "execution_count": 44,
     "metadata": {},
     "output_type": "execute_result"
    }
   ],
   "source": [
    "text_df.shape"
   ]
  },
  {
   "cell_type": "code",
   "execution_count": 45,
   "metadata": {},
   "outputs": [
    {
     "data": {
      "text/plain": [
       "9801"
      ]
     },
     "execution_count": 45,
     "metadata": {},
     "output_type": "execute_result"
    }
   ],
   "source": [
    "len(text_df.filename.unique())"
   ]
  },
  {
   "cell_type": "code",
   "execution_count": 46,
   "metadata": {},
   "outputs": [
    {
     "data": {
      "text/html": [
       "<div>\n",
       "<style scoped>\n",
       "    .dataframe tbody tr th:only-of-type {\n",
       "        vertical-align: middle;\n",
       "    }\n",
       "\n",
       "    .dataframe tbody tr th {\n",
       "        vertical-align: top;\n",
       "    }\n",
       "\n",
       "    .dataframe thead th {\n",
       "        text-align: right;\n",
       "    }\n",
       "</style>\n",
       "<table border=\"1\" class=\"dataframe\">\n",
       "  <thead>\n",
       "    <tr style=\"text-align: right;\">\n",
       "      <th></th>\n",
       "      <th>filename</th>\n",
       "      <th>text</th>\n",
       "    </tr>\n",
       "  </thead>\n",
       "  <tbody>\n",
       "    <tr>\n",
       "      <th>0</th>\n",
       "      <td>Ses01M_script03_2_M000</td>\n",
       "      <td>[LAUGHTER]</td>\n",
       "    </tr>\n",
       "    <tr>\n",
       "      <th>1</th>\n",
       "      <td>Ses01M_script03_2_F000</td>\n",
       "      <td>[LAUGHTER] Utterly, utterly ridiculous.</td>\n",
       "    </tr>\n",
       "    <tr>\n",
       "      <th>2</th>\n",
       "      <td>Ses01M_script03_2_M001</td>\n",
       "      <td>We were very much younger then.</td>\n",
       "    </tr>\n",
       "    <tr>\n",
       "      <th>3</th>\n",
       "      <td>Ses01M_script03_2_F001</td>\n",
       "      <td>Very much sillier.</td>\n",
       "    </tr>\n",
       "    <tr>\n",
       "      <th>4</th>\n",
       "      <td>Ses01M_script03_2_M002</td>\n",
       "      <td>Mmhmm.</td>\n",
       "    </tr>\n",
       "  </tbody>\n",
       "</table>\n",
       "</div>"
      ],
      "text/plain": [
       "                 filename                                     text\n",
       "0  Ses01M_script03_2_M000                               [LAUGHTER]\n",
       "1  Ses01M_script03_2_F000  [LAUGHTER] Utterly, utterly ridiculous.\n",
       "2  Ses01M_script03_2_M001          We were very much younger then.\n",
       "3  Ses01M_script03_2_F001                       Very much sillier.\n",
       "4  Ses01M_script03_2_M002                                   Mmhmm."
      ]
     },
     "execution_count": 46,
     "metadata": {},
     "output_type": "execute_result"
    }
   ],
   "source": [
    "text_df.head()"
   ]
  },
  {
   "cell_type": "code",
   "execution_count": 47,
   "metadata": {
    "collapsed": true
   },
   "outputs": [],
   "source": [
    "to_merge = labels_df[[\"wav_file\", \"emotion\"]]\n",
    "to_merge.columns = [\"filename\", \"emotion\"]"
   ]
  },
  {
   "cell_type": "code",
   "execution_count": 48,
   "metadata": {
    "collapsed": true
   },
   "outputs": [],
   "source": [
    "text_with_emotion = text_df.merge(to_merge, on='filename')"
   ]
  },
  {
   "cell_type": "code",
   "execution_count": 49,
   "metadata": {},
   "outputs": [
    {
     "data": {
      "text/html": [
       "<div>\n",
       "<style scoped>\n",
       "    .dataframe tbody tr th:only-of-type {\n",
       "        vertical-align: middle;\n",
       "    }\n",
       "\n",
       "    .dataframe tbody tr th {\n",
       "        vertical-align: top;\n",
       "    }\n",
       "\n",
       "    .dataframe thead th {\n",
       "        text-align: right;\n",
       "    }\n",
       "</style>\n",
       "<table border=\"1\" class=\"dataframe\">\n",
       "  <thead>\n",
       "    <tr style=\"text-align: right;\">\n",
       "      <th></th>\n",
       "      <th>filename</th>\n",
       "      <th>text</th>\n",
       "      <th>emotion</th>\n",
       "    </tr>\n",
       "  </thead>\n",
       "  <tbody>\n",
       "    <tr>\n",
       "      <th>0</th>\n",
       "      <td>Ses01M_script03_2_M000</td>\n",
       "      <td>[LAUGHTER]</td>\n",
       "      <td>xxx</td>\n",
       "    </tr>\n",
       "    <tr>\n",
       "      <th>1</th>\n",
       "      <td>Ses01M_script03_2_F000</td>\n",
       "      <td>[LAUGHTER] Utterly, utterly ridiculous.</td>\n",
       "      <td>xxx</td>\n",
       "    </tr>\n",
       "    <tr>\n",
       "      <th>2</th>\n",
       "      <td>Ses01M_script03_2_M001</td>\n",
       "      <td>We were very much younger then.</td>\n",
       "      <td>xxx</td>\n",
       "    </tr>\n",
       "    <tr>\n",
       "      <th>3</th>\n",
       "      <td>Ses01M_script03_2_F001</td>\n",
       "      <td>Very much sillier.</td>\n",
       "      <td>xxx</td>\n",
       "    </tr>\n",
       "    <tr>\n",
       "      <th>4</th>\n",
       "      <td>Ses01M_script03_2_M002</td>\n",
       "      <td>Mmhmm.</td>\n",
       "      <td>xxx</td>\n",
       "    </tr>\n",
       "  </tbody>\n",
       "</table>\n",
       "</div>"
      ],
      "text/plain": [
       "                 filename                                     text emotion\n",
       "0  Ses01M_script03_2_M000                               [LAUGHTER]     xxx\n",
       "1  Ses01M_script03_2_F000  [LAUGHTER] Utterly, utterly ridiculous.     xxx\n",
       "2  Ses01M_script03_2_M001          We were very much younger then.     xxx\n",
       "3  Ses01M_script03_2_F001                       Very much sillier.     xxx\n",
       "4  Ses01M_script03_2_M002                                   Mmhmm.     xxx"
      ]
     },
     "execution_count": 49,
     "metadata": {},
     "output_type": "execute_result"
    }
   ],
   "source": [
    "text_with_emotion.head()"
   ]
  },
  {
   "cell_type": "code",
   "execution_count": 50,
   "metadata": {},
   "outputs": [
    {
     "data": {
      "text/html": [
       "<div>\n",
       "<style scoped>\n",
       "    .dataframe tbody tr th:only-of-type {\n",
       "        vertical-align: middle;\n",
       "    }\n",
       "\n",
       "    .dataframe tbody tr th {\n",
       "        vertical-align: top;\n",
       "    }\n",
       "\n",
       "    .dataframe thead th {\n",
       "        text-align: right;\n",
       "    }\n",
       "</style>\n",
       "<table border=\"1\" class=\"dataframe\">\n",
       "  <thead>\n",
       "    <tr style=\"text-align: right;\">\n",
       "      <th></th>\n",
       "      <th>filename</th>\n",
       "      <th>text</th>\n",
       "      <th>emotion</th>\n",
       "    </tr>\n",
       "  </thead>\n",
       "  <tbody>\n",
       "    <tr>\n",
       "      <th>count</th>\n",
       "      <td>9753</td>\n",
       "      <td>9753</td>\n",
       "      <td>9753</td>\n",
       "    </tr>\n",
       "    <tr>\n",
       "      <th>unique</th>\n",
       "      <td>9753</td>\n",
       "      <td>7842</td>\n",
       "      <td>11</td>\n",
       "    </tr>\n",
       "    <tr>\n",
       "      <th>top</th>\n",
       "      <td>Ses05M_script02_2_M007</td>\n",
       "      <td>Yeah.</td>\n",
       "      <td>xxx</td>\n",
       "    </tr>\n",
       "    <tr>\n",
       "      <th>freq</th>\n",
       "      <td>1</td>\n",
       "      <td>81</td>\n",
       "      <td>2452</td>\n",
       "    </tr>\n",
       "  </tbody>\n",
       "</table>\n",
       "</div>"
      ],
      "text/plain": [
       "                      filename   text emotion\n",
       "count                     9753   9753    9753\n",
       "unique                    9753   7842      11\n",
       "top     Ses05M_script02_2_M007  Yeah.     xxx\n",
       "freq                         1     81    2452"
      ]
     },
     "execution_count": 50,
     "metadata": {},
     "output_type": "execute_result"
    }
   ],
   "source": [
    "text_with_emotion.describe(include='all')"
   ]
  },
  {
   "cell_type": "code",
   "execution_count": 55,
   "metadata": {},
   "outputs": [
    {
     "data": {
      "text/plain": [
       "xxx    2452\n",
       "fru    1806\n",
       "neu    1629\n",
       "ang    1079\n",
       "exc    1028\n",
       "sad    1022\n",
       "hap     586\n",
       "sur     106\n",
       "fea      40\n",
       "oth       3\n",
       "dis       2\n",
       "Name: emotion, dtype: int64"
      ]
     },
     "execution_count": 55,
     "metadata": {},
     "output_type": "execute_result"
    }
   ],
   "source": [
    "text_with_emotion.emotion.value_counts()"
   ]
  },
  {
   "cell_type": "code",
   "execution_count": 52,
   "metadata": {
    "collapsed": true
   },
   "outputs": [],
   "source": [
    "import unicodedata\n",
    "\n",
    "def unicodeToAscii(s):\n",
    "    return ''.join(\n",
    "        c for c in unicodedata.normalize('NFD', s)\n",
    "        if unicodedata.category(c) != 'Mn'\n",
    "    )\n",
    "\n",
    "# Lowercase, trim, and remove non-letter characters\n",
    "def normalizeString(s):\n",
    "    s = unicodeToAscii(s.lower().strip())\n",
    "    s = re.sub(r\"([.!?])\", r\" \\1\", s)\n",
    "    s = re.sub(r\"[^a-zA-Z.!?]+\", r\" \", s)\n",
    "    return s"
   ]
  },
  {
   "cell_type": "code",
   "execution_count": 53,
   "metadata": {
    "collapsed": true
   },
   "outputs": [],
   "source": [
    "text_with_emotion[\"processed_text\"] = text_with_emotion[\"text\"].apply(lambda x: normalizeString(x))"
   ]
  },
  {
   "cell_type": "code",
   "execution_count": 54,
   "metadata": {},
   "outputs": [
    {
     "data": {
      "text/html": [
       "<div>\n",
       "<style scoped>\n",
       "    .dataframe tbody tr th:only-of-type {\n",
       "        vertical-align: middle;\n",
       "    }\n",
       "\n",
       "    .dataframe tbody tr th {\n",
       "        vertical-align: top;\n",
       "    }\n",
       "\n",
       "    .dataframe thead th {\n",
       "        text-align: right;\n",
       "    }\n",
       "</style>\n",
       "<table border=\"1\" class=\"dataframe\">\n",
       "  <thead>\n",
       "    <tr style=\"text-align: right;\">\n",
       "      <th></th>\n",
       "      <th>filename</th>\n",
       "      <th>text</th>\n",
       "      <th>emotion</th>\n",
       "      <th>processed_text</th>\n",
       "    </tr>\n",
       "  </thead>\n",
       "  <tbody>\n",
       "    <tr>\n",
       "      <th>0</th>\n",
       "      <td>Ses01M_script03_2_M000</td>\n",
       "      <td>[LAUGHTER]</td>\n",
       "      <td>xxx</td>\n",
       "      <td>laughter</td>\n",
       "    </tr>\n",
       "    <tr>\n",
       "      <th>1</th>\n",
       "      <td>Ses01M_script03_2_F000</td>\n",
       "      <td>[LAUGHTER] Utterly, utterly ridiculous.</td>\n",
       "      <td>xxx</td>\n",
       "      <td>laughter utterly utterly ridiculous .</td>\n",
       "    </tr>\n",
       "    <tr>\n",
       "      <th>2</th>\n",
       "      <td>Ses01M_script03_2_M001</td>\n",
       "      <td>We were very much younger then.</td>\n",
       "      <td>xxx</td>\n",
       "      <td>we were very much younger then .</td>\n",
       "    </tr>\n",
       "    <tr>\n",
       "      <th>3</th>\n",
       "      <td>Ses01M_script03_2_F001</td>\n",
       "      <td>Very much sillier.</td>\n",
       "      <td>xxx</td>\n",
       "      <td>very much sillier .</td>\n",
       "    </tr>\n",
       "    <tr>\n",
       "      <th>4</th>\n",
       "      <td>Ses01M_script03_2_M002</td>\n",
       "      <td>Mmhmm.</td>\n",
       "      <td>xxx</td>\n",
       "      <td>mmhmm .</td>\n",
       "    </tr>\n",
       "  </tbody>\n",
       "</table>\n",
       "</div>"
      ],
      "text/plain": [
       "                 filename                                     text emotion  \\\n",
       "0  Ses01M_script03_2_M000                               [LAUGHTER]     xxx   \n",
       "1  Ses01M_script03_2_F000  [LAUGHTER] Utterly, utterly ridiculous.     xxx   \n",
       "2  Ses01M_script03_2_M001          We were very much younger then.     xxx   \n",
       "3  Ses01M_script03_2_F001                       Very much sillier.     xxx   \n",
       "4  Ses01M_script03_2_M002                                   Mmhmm.     xxx   \n",
       "\n",
       "                           processed_text  \n",
       "0                               laughter   \n",
       "1   laughter utterly utterly ridiculous .  \n",
       "2        we were very much younger then .  \n",
       "3                     very much sillier .  \n",
       "4                                 mmhmm .  "
      ]
     },
     "execution_count": 54,
     "metadata": {},
     "output_type": "execute_result"
    }
   ],
   "source": [
    "text_with_emotion.head()"
   ]
  },
  {
   "cell_type": "code",
   "execution_count": 56,
   "metadata": {
    "collapsed": true
   },
   "outputs": [],
   "source": [
    "text_with_emotion.to_csv('/home/FRACTAL/shaheen.perveen/SER_new/preprocess_info/preprocessed_transcription_text.csv', index=False)"
   ]
  },
  {
   "cell_type": "code",
   "execution_count": null,
   "metadata": {
    "collapsed": true
   },
   "outputs": [],
   "source": []
  }
 ],
 "metadata": {
  "kernelspec": {
   "display_name": "Python 3",
   "language": "python",
   "name": "python3"
  },
  "language_info": {
   "codemirror_mode": {
    "name": "ipython",
    "version": 3
   },
   "file_extension": ".py",
   "mimetype": "text/x-python",
   "name": "python",
   "nbconvert_exporter": "python",
   "pygments_lexer": "ipython3",
   "version": "3.6.8"
  }
 },
 "nbformat": 4,
 "nbformat_minor": 2
}
