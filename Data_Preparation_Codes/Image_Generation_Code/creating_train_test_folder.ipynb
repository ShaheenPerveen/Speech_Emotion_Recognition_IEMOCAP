{
 "cells": [
  {
   "cell_type": "code",
   "execution_count": 1,
   "metadata": {
    "collapsed": true
   },
   "outputs": [],
   "source": [
    "import os\n",
    "import numpy as np\n",
    "import shutil\n",
    "import random\n",
    "from shutil import copyfile\n",
    "os.chdir('/home/FRACTAL/shaheen.perveen/SER_new/')"
   ]
  },
  {
   "cell_type": "code",
   "execution_count": 2,
   "metadata": {},
   "outputs": [
    {
     "data": {
      "text/plain": [
       "'/home/FRACTAL/shaheen.perveen/SER_new'"
      ]
     },
     "execution_count": 2,
     "metadata": {},
     "output_type": "execute_result"
    }
   ],
   "source": [
    "pwd"
   ]
  },
  {
   "cell_type": "code",
   "execution_count": 3,
   "metadata": {
    "collapsed": true
   },
   "outputs": [],
   "source": [
    "data_dir = '/home/FRACTAL/shaheen.perveen/SER_new/IEMOCAP_image'"
   ]
  },
  {
   "cell_type": "code",
   "execution_count": 4,
   "metadata": {
    "collapsed": true
   },
   "outputs": [],
   "source": [
    "def img_train_test_split(img_source_dir, train_size):\n",
    "    if not os.path.exists('IEMOCAP_image_data'):\n",
    "        os.makedirs('IEMOCAP_image_data')\n",
    "    else:\n",
    "        if not os.path.exists('IEMOCAP_image_data/train'):\n",
    "            os.makedirs('IEMOCAP_image_data/train')\n",
    "        if not os.path.exists('IEMOCAP_image_data/test'):\n",
    "            os.makedirs('IEMOCAP_image_data/test')\n",
    "            \n",
    "    subdirs = [subdir for subdir in os.listdir(img_source_dir) if os.path.isdir(os.path.join(img_source_dir, subdir))]\n",
    "\n",
    "    for subdir in subdirs:\n",
    "        subdir_fullpath = os.path.join(img_source_dir, subdir)\n",
    "        \n",
    "        train_subdir = os.path.join('IEMOCAP_image_data/train', subdir)\n",
    "        test_subdir = os.path.join('IEMOCAP_image_data/test', subdir)\n",
    "        \n",
    "        if not os.path.exists(train_subdir):\n",
    "            os.makedirs(train_subdir)\n",
    "\n",
    "        if not os.path.exists(test_subdir):\n",
    "            os.makedirs(test_subdir)\n",
    "\n",
    "        train_counter = 0\n",
    "        test_counter = 0\n",
    "        \n",
    "        for filename in os.listdir(subdir_fullpath):\n",
    "            if filename.endswith(\".jpg\") or filename.endswith(\".png\"): \n",
    "                fileparts = filename.split('.')\n",
    "\n",
    "                if random.uniform(0, 1) <= train_size:\n",
    "                    copyfile(os.path.join(subdir_fullpath, filename), os.path.join(train_subdir, str(fileparts[0]) + '.' + fileparts[1]))\n",
    "                    train_counter += 1\n",
    "                else:\n",
    "                    copyfile(os.path.join(subdir_fullpath, filename), os.path.join(test_subdir, str(fileparts[0]) + '.' + fileparts[1]))\n",
    "                    test_counter += 1\n",
    "                    \n",
    "        print('Copied ' + str(train_counter) + ' images to IEMOCAP_image_data/train/' + subdir)\n",
    "        print('Copied ' + str(test_counter) + ' images to IEMOCAP_image_data/test/' + subdir)"
   ]
  },
  {
   "cell_type": "code",
   "execution_count": 5,
   "metadata": {},
   "outputs": [
    {
     "name": "stdout",
     "output_type": "stream",
     "text": [
      "Copied 875 images to IEMOCAP_image_data/train/anger\n",
      "Copied 229 images to IEMOCAP_image_data/test/anger\n",
      "Copied 866 images to IEMOCAP_image_data/train/sadness\n",
      "Copied 218 images to IEMOCAP_image_data/test/sadness\n",
      "Copied 477 images to IEMOCAP_image_data/train/happiness\n",
      "Copied 118 images to IEMOCAP_image_data/test/happiness\n",
      "Copied 1380 images to IEMOCAP_image_data/train/neutral\n",
      "Copied 329 images to IEMOCAP_image_data/test/neutral\n"
     ]
    }
   ],
   "source": [
    "img_train_test_split(data_dir, 0.8)"
   ]
  },
  {
   "cell_type": "markdown",
   "metadata": {},
   "source": [
    "creating another folder for train and test"
   ]
  },
  {
   "cell_type": "code",
   "execution_count": 6,
   "metadata": {
    "collapsed": true
   },
   "outputs": [],
   "source": [
    "data_dir = '/home/FRACTAL/shaheen.perveen/SER_new/IEMOCAP_image'\n",
    "img_des_dir = '/home/FRACTAL/shaheen.perveen/SER_new/IEMOCAP_image_data2'\n",
    "train = img_des_dir + '/train'\n",
    "test = img_des_dir + '/test'"
   ]
  },
  {
   "cell_type": "code",
   "execution_count": 7,
   "metadata": {
    "collapsed": true
   },
   "outputs": [],
   "source": [
    "def img_train_test_split(img_source_dir, img_des_dir, train, test, train_size):\n",
    "    if not os.path.exists(img_des_dir):\n",
    "        os.makedirs(img_des_dir)\n",
    "    else:\n",
    "        if not os.path.exists(train):\n",
    "            os.makedirs(train)\n",
    "        if not os.path.exists(test):\n",
    "            os.makedirs(test)\n",
    "            \n",
    "    subdirs = [subdir for subdir in os.listdir(img_source_dir) if os.path.isdir(os.path.join(img_source_dir, subdir))]\n",
    "\n",
    "    for subdir in subdirs:\n",
    "        subdir_fullpath = os.path.join(img_source_dir, subdir)\n",
    "        \n",
    "        train_subdir = os.path.join(train, subdir)\n",
    "        test_subdir = os.path.join(test, subdir)\n",
    "        \n",
    "        if not os.path.exists(train_subdir):\n",
    "            os.makedirs(train_subdir)\n",
    "\n",
    "        if not os.path.exists(test_subdir):\n",
    "            os.makedirs(test_subdir)\n",
    "\n",
    "        train_counter = 0\n",
    "        test_counter = 0\n",
    "        \n",
    "        for filename in os.listdir(subdir_fullpath):\n",
    "            if filename.endswith(\".jpg\") or filename.endswith(\".png\"): \n",
    "                fileparts = filename.split('.')\n",
    "\n",
    "                if random.uniform(0, 1) <= train_size:\n",
    "                    copyfile(os.path.join(subdir_fullpath, filename), os.path.join(train_subdir, str(fileparts[0]) + '.' + fileparts[1]))\n",
    "                    train_counter += 1\n",
    "                else:\n",
    "                    copyfile(os.path.join(subdir_fullpath, filename), os.path.join(test_subdir, str(fileparts[0]) + '.' + fileparts[1]))\n",
    "                    test_counter += 1\n",
    "                    \n",
    "        print('Copied ' + str(train_counter) + ' images to' +  train + '/' + subdir)\n",
    "        print('Copied ' + str(test_counter) + ' images to ' + test + '/' + subdir)"
   ]
  },
  {
   "cell_type": "code",
   "execution_count": 8,
   "metadata": {},
   "outputs": [
    {
     "name": "stdout",
     "output_type": "stream",
     "text": [
      "Copied 829 images to/home/FRACTAL/shaheen.perveen/SER_new/IEMOCAP_image_data2/train/anger\n",
      "Copied 275 images to /home/FRACTAL/shaheen.perveen/SER_new/IEMOCAP_image_data2/test/anger\n",
      "Copied 803 images to/home/FRACTAL/shaheen.perveen/SER_new/IEMOCAP_image_data2/train/sadness\n",
      "Copied 281 images to /home/FRACTAL/shaheen.perveen/SER_new/IEMOCAP_image_data2/test/sadness\n",
      "Copied 455 images to/home/FRACTAL/shaheen.perveen/SER_new/IEMOCAP_image_data2/train/happiness\n",
      "Copied 140 images to /home/FRACTAL/shaheen.perveen/SER_new/IEMOCAP_image_data2/test/happiness\n",
      "Copied 1280 images to/home/FRACTAL/shaheen.perveen/SER_new/IEMOCAP_image_data2/train/neutral\n",
      "Copied 429 images to /home/FRACTAL/shaheen.perveen/SER_new/IEMOCAP_image_data2/test/neutral\n"
     ]
    }
   ],
   "source": [
    "img_train_test_split(data_dir, img_des_dir, train, test, 0.75)"
   ]
  },
  {
   "cell_type": "code",
   "execution_count": null,
   "metadata": {
    "collapsed": true
   },
   "outputs": [],
   "source": []
  }
 ],
 "metadata": {
  "kernelspec": {
   "display_name": "Python 3",
   "language": "python",
   "name": "python3"
  },
  "language_info": {
   "codemirror_mode": {
    "name": "ipython",
    "version": 3
   },
   "file_extension": ".py",
   "mimetype": "text/x-python",
   "name": "python",
   "nbconvert_exporter": "python",
   "pygments_lexer": "ipython3",
   "version": "3.6.8"
  }
 },
 "nbformat": 4,
 "nbformat_minor": 2
}
